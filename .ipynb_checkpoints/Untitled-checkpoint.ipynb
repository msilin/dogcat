{
 "cells": [
  {
   "cell_type": "code",
   "execution_count": null,
   "metadata": {},
   "outputs": [],
   "source": [
    "import pandas as pd\n",
    "import ast\n",
    "import json\n",
    "from pandas.io.json import json_normalize #package for flattening json in pandas df\n",
    "\n",
    "\n",
    "#pd.set_option('display.width', 40)\n",
    "#pd.set_option('display.max_colwidth', -1)\n",
    "\n",
    "with open('app_log.json') as f:\n",
    "    data = json.loads('[' + \n",
    "        f.read().replace('}{', '}, {')+ ']' ) \n",
    "\n",
    "# items = []\n",
    "# for item in data:\n",
    "#     item = ast.literal_eval(data)\n",
    "#     items.add\n",
    "    \n",
    "    \n",
    "    \n",
    "#df= pd.DataFrame(data)\n",
    "\n",
    "df = json_normalize(data)\n",
    "print(df)\n",
    "\n",
    "\n",
    "\n",
    "#print(df.iloc[0])"
   ]
  },
  {
   "cell_type": "code",
   "execution_count": null,
   "metadata": {},
   "outputs": [],
   "source": []
  },
  {
   "cell_type": "code",
   "execution_count": null,
   "metadata": {},
   "outputs": [],
   "source": []
  }
 ],
 "metadata": {
  "kernelspec": {
   "display_name": "Python 3",
   "language": "python",
   "name": "python3"
  },
  "language_info": {
   "codemirror_mode": {
    "name": "ipython",
    "version": 3
   },
   "file_extension": ".py",
   "mimetype": "text/x-python",
   "name": "python",
   "nbconvert_exporter": "python",
   "pygments_lexer": "ipython3",
   "version": "3.7.6"
  }
 },
 "nbformat": 4,
 "nbformat_minor": 2
}
